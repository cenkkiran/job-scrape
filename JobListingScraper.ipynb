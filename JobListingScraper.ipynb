{
  "nbformat": 4,
  "nbformat_minor": 0,
  "metadata": {
    "colab": {
      "name": "JobListingScraper.ipynb",
      "provenance": [],
      "collapsed_sections": [],
      "mount_file_id": "1L1XLsMW6NWqZr8uwHdF5ZsWOSCGlFBel",
      "authorship_tag": "ABX9TyOloltPx8Y5/r11QUp+vfgc",
      "include_colab_link": true
    },
    "kernelspec": {
      "name": "python3",
      "display_name": "Python 3"
    },
    "language_info": {
      "name": "python"
    }
  },
  "cells": [
    {
      "cell_type": "markdown",
      "metadata": {
        "id": "view-in-github",
        "colab_type": "text"
      },
      "source": [
        "<a href=\"https://colab.research.google.com/github/cenkkiran/job-scrape/blob/main/JobListingScraper.ipynb\" target=\"_parent\"><img src=\"https://colab.research.google.com/assets/colab-badge.svg\" alt=\"Open In Colab\"/></a>"
      ]
    },
    {
      "cell_type": "markdown",
      "metadata": {
        "id": "lDetGB80btWB"
      },
      "source": [
        "# Dependencies\n",
        "\n",
        "First of all we import all the necessary modules"
      ]
    },
    {
      "cell_type": "code",
      "metadata": {
        "id": "Wnr6HblIpLCh"
      },
      "source": [
        "import requests\n",
        "import urllib.request\n",
        "import time\n",
        "from datetime import datetime\n",
        "import os\n",
        "import argparse\n",
        "from bs4 import BeautifulSoup\n",
        "import pandas as pd\n",
        "import gspread\n",
        "from google.colab import auth\n",
        "from oauth2client.client import GoogleCredentials\n",
        "import matplotlib.pyplot as plt\n",
        "import re\n",
        "import nltk\n",
        "from nltk.corpus import stopwords\n",
        "from nltk.stem import WordNetLemmatizer\n",
        "# Ngrams allows to group words in common pairs or trigrams..etc\n",
        "from nltk import ngrams\n",
        "# We can use counter to count the objects\n",
        "from collections import Counter\n",
        "# This is our visual library\n",
        "import seaborn as sns"
      ],
      "execution_count": 150,
      "outputs": []
    },
    {
      "cell_type": "code",
      "metadata": {
        "id": "GEohvF19yxCh"
      },
      "source": [
        ""
      ],
      "execution_count": null,
      "outputs": []
    },
    {
      "cell_type": "markdown",
      "metadata": {
        "id": "_0sZZGJxb5fd"
      },
      "source": [
        "# Scrape the first node summaries\n",
        "\n",
        "Let's get our hands dirty and deal with pagination. We'll gather all data into Pandas DataFrame by loops and then write them into Google Sheet.\n",
        "\n"
      ]
    },
    {
      "cell_type": "code",
      "metadata": {
        "id": "10_-jvWkAR7W"
      },
      "source": [
        "pd.set_option('display.max_colwidth',1000)\n",
        "auth.authenticate_user()\n",
        "gc = gspread.authorize(GoogleCredentials.get_application_default())"
      ],
      "execution_count": null,
      "outputs": []
    },
    {
      "cell_type": "code",
      "metadata": {
        "colab": {
          "base_uri": "https://localhost:8080/"
        },
        "id": "nlFF72GX8rsa",
        "outputId": "47554fec-a7cd-4ed4-94e8-f0ebe6ea4cc5"
      },
      "source": [
        "# Feature set\n",
        "columns = ['Reference','Title','Salary','Location','Desc','Author','URL','Expired','Date']\n",
        "\n",
        "# Google Drive Authentication and Google Sheets implementation\n",
        "wb = gc.open_by_url('https://docs.google.com/spreadsheets/d/167_olmhOGFikR6tffGDHSvNR0zcaBq3wWfScZKI6KUg/edit#gid=0')\n",
        "sheet = wb.worksheet('List')\n",
        "\n",
        "# Get the data for our pandas DataFrame\n",
        "data = sheet.get_all_values()\n",
        "del data[0]\n",
        "if len(data):\n",
        "  df = pd.DataFrame(data)\n",
        "else:\n",
        "  df= pd.DataFrame(pd.np.empty((0, 9)))\n",
        "df.columns = columns"
      ],
      "execution_count": 84,
      "outputs": [
        {
          "output_type": "stream",
          "text": [
            "/usr/local/lib/python3.7/dist-packages/ipykernel_launcher.py:14: FutureWarning: The pandas.np module is deprecated and will be removed from pandas in a future version. Import numpy directly instead\n",
            "  \n"
          ],
          "name": "stderr"
        }
      ]
    },
    {
      "cell_type": "code",
      "metadata": {
        "id": "3VvkQg70VF18"
      },
      "source": [
        "df.head()"
      ],
      "execution_count": null,
      "outputs": []
    },
    {
      "cell_type": "code",
      "metadata": {
        "colab": {
          "base_uri": "https://localhost:8080/"
        },
        "id": "ROAiHEnsp7W9",
        "outputId": "268f22c6-0054-4111-af86-0d880aa06675"
      },
      "source": [
        "condition = True\n",
        "page = 1\n",
        "headers = {'User-Agent': 'Mozilla/5.0 (Macintosh; Intel Mac OS X 10_10_1) AppleWebKit/537.36 (KHTML, like Gecko) Chrome/39.0.2171.95 Safari/537.36'}\n",
        "\n",
        "while (condition):\n",
        "  url = 'https://www.harnham.com/jobs?options=1035,261&page=' + str(page) + '&size=24'\n",
        "  response = requests.get(url, headers=headers)\n",
        "  soup = BeautifulSoup(response.content, 'html.parser')\n",
        "  print(response.status_code)\n",
        "  if not soup.find('p', class_='search-no-results'):\n",
        "    mydivs = soup.find_all(\"div\", class_=\"job-block-wrapper\")\n",
        "\n",
        "    for job in mydivs:\n",
        "      title = job.find('span', class_='inner-title').text.strip()\n",
        "      salary = job.find('p', class_='salary-text').text.strip().split()\n",
        "      location = job.find('p', class_='location-text').text.strip().split(',')\n",
        "      desc = job.find('p', class_='description-text').text.strip().replace('\\n',' ')\n",
        "      reference = job.find('p', class_='job-block__reference-text').text.strip()\n",
        "      author = job.find('div', class_='job-author-name').text.strip().replace('\\n','').split('Author')\n",
        "      url = 'https://www.harnham.com' + job.find('a', class_='job-block__learnmore-link')['href']\n",
        "      exp = job.find('time-until')['datetime'].replace('.','')\n",
        "      synced = datetime.today().strftime('%d/%m/%Y')\n",
        "      dict = {'Reference' : reference, 'Title': title, 'Salary' : salary[2], 'Location' : location[0], 'Desc' : desc, 'Author' : author[1].strip(), 'URL' : url, 'Expired' : exp, 'Date': synced}\n",
        "\n",
        "      if not reference in df.values:\n",
        "        df = df.append(dict, ignore_index=True)\n",
        "      else:\n",
        "        print( ' Duplicate ')\n",
        "        condition = False\n",
        "        break\n",
        "  else:\n",
        "    print( ' no page ')\n",
        "    condition = False\n",
        "  page += 1\n",
        "      \n",
        "# Still got the duplicates!"
      ],
      "execution_count": 85,
      "outputs": [
        {
          "output_type": "stream",
          "text": [
            "200\n"
          ],
          "name": "stdout"
        },
        {
          "output_type": "stream",
          "text": [
            "/usr/local/lib/python3.7/dist-packages/ipykernel_launcher.py:25: FutureWarning: elementwise comparison failed; returning scalar instead, but in the future will perform elementwise comparison\n"
          ],
          "name": "stderr"
        },
        {
          "output_type": "stream",
          "text": [
            "200\n",
            "200\n",
            " no page \n"
          ],
          "name": "stdout"
        }
      ]
    },
    {
      "cell_type": "code",
      "metadata": {
        "id": "i1jTMr1SWiJH"
      },
      "source": [
        "# Let's update our Google Sheets with the updated data.\n",
        "\n",
        "for index, row in df.iterrows():\n",
        "  sheet.append_row(list(row))\n"
      ],
      "execution_count": 86,
      "outputs": []
    },
    {
      "cell_type": "markdown",
      "metadata": {
        "id": "4cGwsb7OcLHv"
      },
      "source": [
        "# Job Details"
      ]
    },
    {
      "cell_type": "code",
      "metadata": {
        "id": "wzvrvJb0cQJY"
      },
      "source": [
        "# We are going deep into all URL that we gathered and scrape them as well!\n",
        "text = ''\n",
        "for link in df.loc[:,'URL']:\n",
        "  response = requests.get(link, headers=headers)\n",
        "  soup = BeautifulSoup(response.content, 'html.parser')\n",
        "  context = soup.find('div', class_='description-widget').find_all(['p','li'])\n",
        "  text += soup.title.get_text().split('|')[0].replace('\\n', '')\n",
        "  print(text)\n",
        "  for p in context:\n",
        "    if \"<strong>\" in str(p):\n",
        "      continue\n",
        "    t = p.get_text()\n",
        "    t = re.sub(r'==.*?==+', '', t)\n",
        "    t = t.replace('\\n', '')\n",
        "    t = t.replace('&','')\n",
        "    print(t)\n",
        "    text += t\n",
        "  time.sleep(0.1)"
      ],
      "execution_count": null,
      "outputs": []
    },
    {
      "cell_type": "code",
      "metadata": {
        "colab": {
          "base_uri": "https://localhost:8080/"
        },
        "id": "BKBgxY9S4TvS",
        "outputId": "1a24ea28-d6a8-4b07-a08a-87a7aab78465"
      },
      "source": [
        "nltk.download('stopwords')\n",
        "stops = set(stopwords.words('english'))\n",
        "\n",
        "# View a few words from the set\n",
        "list(stops)[0:10]\n",
        "\n",
        "words = text.split()\n",
        "words = [word.lower() for word in words]\n",
        "words = [w for w in words if w not in sw]\n",
        "words = [w for w in words if w not in list(stops)]"
      ],
      "execution_count": 151,
      "outputs": [
        {
          "output_type": "stream",
          "text": [
            "[nltk_data] Downloading package stopwords to /root/nltk_data...\n",
            "[nltk_data]   Package stopwords is already up-to-date!\n"
          ],
          "name": "stdout"
        }
      ]
    },
    {
      "cell_type": "code",
      "metadata": {
        "colab": {
          "base_uri": "https://localhost:8080/",
          "height": 499
        },
        "id": "QcfCbxGe0nQc",
        "outputId": "3646f256-6c8f-45ca-c32b-2650eab34dd2"
      },
      "source": [
        "\n",
        "# Create counter\n",
        "counts_words = Counter(words)\n",
        "words_df = pd.DataFrame(counts_words.most_common(25), columns=['words', 'count'])\n",
        "words_df.set_index('words')\n",
        "\n",
        "fig, ax = plt.subplots(figsize=(8, 8))\n",
        "words_df.sort_values(by='count').plot.barh(x='words',\n",
        "                      y='count',\n",
        "                      ax=ax,\n",
        "                      color=\"purple\")\n",
        "\n",
        "ax.set_title(\"Most Used Words Frequency\")\n",
        "plt.show()"
      ],
      "execution_count": 152,
      "outputs": [
        {
          "output_type": "display_data",
          "data": {
            "image/png": "[encoded data removed]",
            "text/plain": [
              "<Figure size 576x576 with 1 Axes>"
            ]
          },
          "metadata": {
            "needs_background": "light"
          }
        }
      ]
    },
    {
      "cell_type": "code",
      "metadata": {
        "colab": {
          "base_uri": "https://localhost:8080/"
        },
        "id": "94bq89XDyyE7",
        "outputId": "f991eff9-5c99-4751-b386-4fa1c11e8236"
      },
      "source": [
        ""
      ],
      "execution_count": 97,
      "outputs": [
        {
          "output_type": "execute_result",
          "data": {
            "text/plain": [
              "<WordListCorpusReader in '.../corpora/stopwords' (not loaded yet)>"
            ]
          },
          "metadata": {},
          "execution_count": 97
        }
      ]
    },
    {
      "cell_type": "code",
      "metadata": {
        "id": "x9C_DSmRysHB"
      },
      "source": [
        ""
      ],
      "execution_count": null,
      "outputs": []
    },
    {
      "cell_type": "code",
      "metadata": {
        "id": "JFmTavzIeE0o"
      },
      "source": [
        "sw = ['a', 'about', 'above', 'across', 'after', 'afterwards']\n",
        "sw += ['again', 'against', 'all', 'almost', 'alone', 'along']\n",
        "sw += ['already', 'also', 'although', 'always', 'am', 'among']\n",
        "sw += ['amongst', 'amoungst', 'amount', 'an', 'and', 'another']\n",
        "sw += ['any', 'anyhow', 'anyone', 'anything', 'anyway', 'anywhere']\n",
        "sw += ['are', 'around', 'as', 'at', 'back', 'be', 'became']\n",
        "sw += ['because', 'become', 'becomes', 'becoming', 'been']\n",
        "sw += ['before', 'beforehand', 'behind', 'being', 'below']\n",
        "sw += ['beside', 'besides', 'between', 'beyond', 'bill', 'both']\n",
        "sw += ['bottom', 'but', 'by', 'call', 'can', 'cannot', 'cant']\n",
        "sw += ['co', 'computer', 'con', 'could', 'couldnt', 'cry', 'de']\n",
        "sw += ['describe', 'detail', 'did', 'do', 'done', 'down', 'due']\n",
        "sw += ['during', 'each', 'eg', 'eight', 'either', 'eleven', 'else']\n",
        "sw += ['elsewhere', 'empty', 'enough', 'etc', 'even', 'ever']\n",
        "sw += ['every', 'everyone', 'everything', 'everywhere', 'except']\n",
        "sw += ['few', 'fifteen', 'fifty', 'fill', 'find', 'fire', 'first']\n",
        "sw += ['five', 'for', 'former', 'formerly', 'forty', 'found']\n",
        "sw += ['four', 'from', 'front', 'full', 'further', 'get', 'give']\n",
        "sw += ['go', 'had', 'has', 'hasnt', 'have', 'he', 'hence', 'her']\n",
        "sw += ['here', 'hereafter', 'hereby', 'herein', 'hereupon', 'hers']\n",
        "sw += ['herself', 'him', 'himself', 'his', 'how', 'however']\n",
        "sw += ['hundred', 'i', 'ie', 'if', 'in', 'inc', 'indeed']\n",
        "sw += ['interest', 'into', 'is', 'it', 'its', 'itself', 'keep']\n",
        "sw += ['last', 'latter', 'latterly', 'least', 'less', 'ltd', 'made']\n",
        "sw += ['many', 'may', 'me', 'meanwhile', 'might', 'mill', 'mine']\n",
        "sw += ['more', 'moreover', 'most', 'mostly', 'move', 'much']\n",
        "sw += ['must', 'my', 'myself', 'name', 'namely', 'neither', 'never']\n",
        "sw += ['nevertheless', 'next', 'nine', 'no', 'nobody', 'none']\n",
        "sw += ['noone', 'nor', 'not', 'nothing', 'now', 'nowhere', 'of']\n",
        "sw += ['off', 'often', 'on','once', 'one', 'only', 'onto', 'or']\n",
        "sw += ['other', 'others', 'otherwise', 'our', 'ours', 'ourselves']\n",
        "sw += ['out', 'over', 'own', 'part', 'per', 'perhaps', 'please']\n",
        "sw += ['put', 'rather', 're', 's', 'same', 'see', 'seem', 'seemed']\n",
        "sw += ['seeming', 'seems', 'serious', 'several', 'she', 'should']\n",
        "sw += ['show', 'side', 'since', 'sincere', 'six', 'sixty', 'so']\n",
        "sw += ['some', 'somehow', 'someone', 'something', 'sometime']\n",
        "sw += ['sometimes', 'somewhere', 'still', 'such', 'system', 'take']\n",
        "sw += ['ten', 'than', 'that', 'the', 'their', 'them', 'themselves']\n",
        "sw += ['then', 'thence', 'there', 'thereafter', 'thereby']\n",
        "sw += ['therefore', 'therein', 'thereupon', 'these', 'they']\n",
        "sw += ['thick', 'thin', 'third', 'this', 'those', 'though', 'three']\n",
        "sw += ['three', 'through', 'throughout', 'thru', 'thus', 'to']\n",
        "sw += ['together', 'too', 'top', 'toward', 'towards', 'twelve']\n",
        "sw += ['twenty', 'two', 'un', 'under', 'until', 'up', 'upon']\n",
        "sw += ['us', 'very', 'via', 'was', 'we', 'well', 'were', 'what']\n",
        "sw += ['whatever', 'when', 'whence', 'whenever', 'where']\n",
        "sw += ['whereafter', 'whereas', 'whereby', 'wherein', 'whereupon']\n",
        "sw += ['wherever', 'whether', 'which', 'while', 'whither', 'who']\n",
        "sw += ['whoever', 'whole', 'whom', 'whose', 'why', 'will', 'with']\n",
        "sw += ['within', 'without', 'would', 'yet', 'you', 'your']\n",
        "sw += ['yours', 'yourself', 'yourselves','register','CV','Apply']\n",
        "sw += ['link', 'page', 'andrew','please','Denham','English','Fluent']\n",
        "sw += ['zavina','johnson','Elizabeth','stone','working','using','site','alongside','opportunity']\n",
        "sw += [n for n in list(df['Author'])]\n"
      ],
      "execution_count": 147,
      "outputs": []
    }
  ]
}